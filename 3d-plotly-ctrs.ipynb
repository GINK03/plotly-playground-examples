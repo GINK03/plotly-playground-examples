{
 "cells": [
  {
   "cell_type": "code",
   "execution_count": 60,
   "metadata": {
    "scrolled": true
   },
   "outputs": [
    {
     "data": {
      "text/html": [
       "<iframe id=\"igraph\" scrolling=\"no\" style=\"border:none;\" seamless=\"seamless\" src=\"https://plot.ly/~nardtree/157.embed\" height=\"400px\" width=\"800px\"></iframe>"
      ],
      "text/plain": [
       "<plotly.tools.PlotlyDisplay object>"
      ]
     },
     "execution_count": 60,
     "metadata": {},
     "output_type": "execute_result"
    }
   ],
   "source": [
    "\n",
    "import plotly.plotly as py\n",
    "from plotly.graph_objs import *\n",
    "py.sign_in('nardtree', 'fm0a80PTMm7AYsj0T8GL')\n",
    "trace1 = {\n",
    " \"x\": ['20～21歳', '22～29歳', '30～34歳', '35～39歳', '40～49歳', '50～59歳'] , \n",
    "  \"y\": ['2016_12_28', '2016_12_29', '2016_12_30', '2016_12_31', '2017_01_01', '2017_01_02', '2017_01_03', '2017_01_04', '2017_01_05', '2017_01_06'], \n",
    "  \"z\": [\n",
    " [0.12888019211954105, 0.18286934092324114, 0.11269234190162768, 0.26736636129147023, 0.11945210353108601, 0.053811260339766964],\n",
    " [0.22413946455572356, 0.29556168282486883, 0.1922084852797296, 0.4590411811794005, 0.18580450057813752, 0.07453526638797474],\n",
    " [0.1854487236502713, 0.2654985324201726, 0.17130659076758872, 0.4729164813661834, 0.17335230810281954, 0.06359512585608823] ,\n",
    " [0.1912300987280975, 0.23721426665480744, 0.17664324468558215, 0.41207862670105844, 0.15031575202348127, 0.056212754602864005] ,\n",
    " [0.24068309170150315, 0.2823089922618518, 0.19932402383705417, 0.46348839277772835, 0.18197989860357555, 0.0748020990838744],\n",
    " [0.21960330872542916, 0.28044116339055414, 0.21177621631237215, 0.4529040291737081, 0.1882949390732011, 0.07613626256337276],\n",
    " [0.29734056746419996, 0.39660233033887754, 0.258382993862848, 0.6634350262385484, 0.2649648670283732, 0.12727919594414303] ,\n",
    " [0.24272880903673397, 0.3598683625366895, 0.2655874766521391, 0.644045183669839, 0.2850662634528151, 0.10886773992706573],\n",
    " [0.2642533131726408, 0.3614693587120875, 0.2720804055856978, 0.62438850840523, 0.23330072044827893, 0.1136707284532598]\n",
    "],\n",
    "    \"colorscale\": [ [0, \"rgb(231, 245, 255)\"], [0.3, \"rgb(31, 119, 180)\"]  ], \n",
    "  \"lighting\": {\n",
    "    \"ambient\": 0.95, \n",
    "    \"diffuse\": 0.99, \n",
    "    \"fresnel\": 0.01, \n",
    "    \"roughness\": 0.01, \n",
    "    \"specular\": 0.01\n",
    "  }, \n",
    "  \"name\": \"y\", \n",
    "  \"showscale\": False, \n",
    "  \"type\": \"surface\", \n",
    "  \"uid\": \"13af37\", \n",
    "  \"zmax\": 3.0, \n",
    "  \"zmin\": 0\n",
    "}\n",
    "data = Data([trace1])\n",
    "layout = {\n",
    "  \"autosize\": True, \n",
    "  \"height\": 400, \n",
    "  \"margin\": {\n",
    "    \"r\": 20, \n",
    "    \"t\": 60, \n",
    "    \"b\": 60, \n",
    "    \"l\": 20\n",
    "  }, \n",
    "  \"scene\": {\n",
    "    \"aspectmode\": \"manual\", \n",
    "    \"aspectratio\": {\n",
    "      \"x\": 2, \n",
    "      \"y\": 4, \n",
    "      \"z\": 2\n",
    "    }, \n",
    "    \"camera\": {\n",
    "      \"center\": {\n",
    "        \"x\": 0, \n",
    "        \"y\": 0, \n",
    "        \"z\": 0\n",
    "      }, \n",
    "      \"eye\": {\n",
    "        \"x\": -2.72409940151, \n",
    "        \"y\": -0.0329189638584, \n",
    "        \"z\": 1.28125645532\n",
    "      }, \n",
    "      \"up\": {\n",
    "        \"x\": 0, \n",
    "        \"y\": 0, \n",
    "        \"z\": 1\n",
    "      }\n",
    "    }, \n",
    "    \"xaxis\": {\n",
    "      \"showgrid\": True, \n",
    "      \"title\": \"\", \n",
    "      \"type\": \"category\", \n",
    "      \"zeroline\": False\n",
    "    }, \n",
    "    \"yaxis\": {\n",
    "      \"showgrid\": True, \n",
    "      \"title\": \"\", \n",
    "      \"type\": \"category\", \n",
    "      \"zeroline\": False\n",
    "    }, \n",
    "    \"zaxis\": {\n",
    "      \"autorange\":True,\n",
    "      \"showgrid\": True, \n",
    "      \"ticksuffix\": \"%\", \n",
    "      \"title\": \"Yield\", \n",
    "      \"zeroline\": False\n",
    "    }\n",
    "  }, \n",
    "  \"showlegend\": False, \n",
    "  \"title\": \"US Treasury Yield Curve\", \n",
    "  \"width\": 800\n",
    "}\n",
    "fig = Figure(data=data, layout=layout)\n",
    "py.iplot(fig)"
   ]
  },
  {
   "cell_type": "code",
   "execution_count": null,
   "metadata": {
    "collapsed": true
   },
   "outputs": [],
   "source": []
  }
 ],
 "metadata": {
  "kernelspec": {
   "display_name": "Python 3",
   "language": "python",
   "name": "python3"
  },
  "language_info": {
   "codemirror_mode": {
    "name": "ipython",
    "version": 3
   },
   "file_extension": ".py",
   "mimetype": "text/x-python",
   "name": "python",
   "nbconvert_exporter": "python",
   "pygments_lexer": "ipython3",
   "version": "3.6.2"
  }
 },
 "nbformat": 4,
 "nbformat_minor": 2
}
