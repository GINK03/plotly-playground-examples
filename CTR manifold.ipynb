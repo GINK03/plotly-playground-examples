{
 "cells": [
  {
   "cell_type": "code",
   "execution_count": 4,
   "metadata": {},
   "outputs": [
    {
     "data": {
      "text/html": [
       "<iframe id=\"igraph\" scrolling=\"no\" style=\"border:none;\" seamless=\"seamless\" src=\"https://plot.ly/~nardtree/171.embed\" height=\"400px\" width=\"800px\"></iframe>"
      ],
      "text/plain": [
       "<plotly.tools.PlotlyDisplay object>"
      ]
     },
     "execution_count": 4,
     "metadata": {},
     "output_type": "execute_result"
    }
   ],
   "source": [
    "import plotly.plotly as py\n",
    "from plotly.graph_objs import *\n",
    "py.sign_in('nardtree', 'fm0a80PTMm7AYsj0T8GL')\n",
    "trace1 = {\n",
    " \"x\":['15～17歳', '18～19歳', '20～21歳', '22～29歳', '30～34歳', '35～39歳', '40～49歳', '50～59歳', '60～69歳']\n",
    "    , \n",
    "  \"y\": ['300万未満', '300～500万', '500～700万', '700～1000万', '1000～1400万', '1400万以上']\n",
    "    , \n",
    "  \"z\": [\n",
    "[0.19355534304625827, 0.7028891414659257, 0.7458904883442392, 0.7487020187985772, 0.7800426122024166, 0.698405040563007, 0.7016142666288878, 0.7261982671839854, 0.6331372117742662] ,\n",
    "[0.3860396288582685, 0.5939431089653497, 0.6662140066712207, 0.6969702593070067, 0.5891025240373077, 0.5879472208980604, 0.4916814685915259, 0.6286484675608472, 0.5855539115360165] ,\n",
    "[0.156154047435064, 0.6462441878980382, 0.8215058783943211, 0.8645096808509861, 0.9088715588427634, 0.8448840215253496, 0.5481065254796579, 0.6036339399437815, 0.5875178583856977] ,\n",
    "[0.15023924025300642, 0.5057552002221674, 0.5987135946874563, 0.3500277947629742, 0.5068907678781929, 0.47256333883786517, 0.33738850618141236, 0.4435411571610406, 0.44155228827531007] ,\n",
    "[0.12789353046854027, 1.0, 0.7674224988274015, 0.8178336507271625, 0.7178154661685743, 0.7661817791679805, 0.689749179117006, 0.5612368417053163, 0.5831732450224366] ,\n",
    "[0.3157371533442088, 0.305694311383687, 0.4386928741177401, 0.3883743852609468, 0.33745843251470137, 0.47761085246888246, 0.3301618376240113, 0.47025920719284925, 0.44097862986578623] \n",
    "  ],\n",
    " \"colorscale\": [ [0, \"rgb(0, 0, 255)\"], [0.6, \"rgb(31, 119, 180)\"]  ], \n",
    "  \"lighting\": {\n",
    "    \"ambient\": 0.95, \n",
    "    \"diffuse\": 0.99, \n",
    "    \"fresnel\": 0.01, \n",
    "    \"roughness\": 0.01, \n",
    "    \"specular\": 0.01\n",
    "  }, \n",
    "  \"name\": \"y\", \n",
    "  \"showscale\": False, \n",
    "  \"type\": \"surface\", \n",
    "  \"uid\": \"13af37\", \n",
    "  \"zmax\": 3.0, \n",
    "  \"zmin\": 0\n",
    "}\n",
    "data = Data([trace1])\n",
    "layout = {\n",
    "  \"autosize\": True, \n",
    "  \"height\": 400, \n",
    "  \"margin\": {\n",
    "    \"r\": 20, \n",
    "    \"t\": 60, \n",
    "    \"b\": 60, \n",
    "    \"l\": 20\n",
    "  }, \n",
    "  \"scene\": {\n",
    "    \"aspectmode\": \"manual\", \n",
    "    \"aspectratio\": {\n",
    "      \"x\": 2, \n",
    "      \"y\": 4, \n",
    "      \"z\": 2\n",
    "    }, \n",
    "    \"camera\": {\n",
    "      \"center\": {\n",
    "        \"x\": 0, \n",
    "        \"y\": 0, \n",
    "        \"z\": 0\n",
    "      }, \n",
    "      \"eye\": {\n",
    "        \"x\": -2.72409940151, \n",
    "        \"y\": -0.0329189638584, \n",
    "        \"z\": 1.28125645532\n",
    "      }, \n",
    "      \"up\": {\n",
    "        \"x\": 0, \n",
    "        \"y\": 0, \n",
    "        \"z\": 1\n",
    "      }\n",
    "    }, \n",
    "    \"xaxis\": {\n",
    "      \"showgrid\": True, \n",
    "      \"title\": \"\", \n",
    "      \"type\": \"category\", \n",
    "      \"zeroline\": False\n",
    "    }, \n",
    "    \"yaxis\": {\n",
    "      \"showgrid\": True, \n",
    "      \"title\": \"\", \n",
    "      \"type\": \"category\", \n",
    "      \"zeroline\": False\n",
    "    }, \n",
    "    \"zaxis\": {\n",
    "      \"autorange\":True,\n",
    "      \"showgrid\": True, \n",
    "      \"ticksuffix\": \"%\", \n",
    "      \"title\": \"CTR\", \n",
    "      \"zeroline\": False\n",
    "    }\n",
    "  }, \n",
    "  \"showlegend\": False, \n",
    "  \"title\": \"US Treasury Yield Curve\", \n",
    "  \"width\": 800\n",
    "}\n",
    "fig = Figure(data=data, layout=layout)\n",
    "py.iplot(fig)"
   ]
  },
  {
   "cell_type": "code",
   "execution_count": null,
   "metadata": {
    "collapsed": true
   },
   "outputs": [],
   "source": []
  }
 ],
 "metadata": {
  "kernelspec": {
   "display_name": "Python 3",
   "language": "python",
   "name": "python3"
  },
  "language_info": {
   "codemirror_mode": {
    "name": "ipython",
    "version": 3
   },
   "file_extension": ".py",
   "mimetype": "text/x-python",
   "name": "python",
   "nbconvert_exporter": "python",
   "pygments_lexer": "ipython3",
   "version": "3.6.2"
  }
 },
 "nbformat": 4,
 "nbformat_minor": 2
}
